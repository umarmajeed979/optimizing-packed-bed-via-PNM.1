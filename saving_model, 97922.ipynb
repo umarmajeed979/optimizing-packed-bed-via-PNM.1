{
 "cells": [
  {
   "cell_type": "markdown",
   "id": "d9a68b29",
   "metadata": {},
   "source": [
    "## importing libraries"
   ]
  },
  {
   "cell_type": "code",
   "execution_count": 1,
   "id": "9f5c174d",
   "metadata": {},
   "outputs": [
    {
     "name": "stderr",
     "output_type": "stream",
     "text": [
      "C:\\Users\\DELL\\anaconda3\\Lib\\site-packages\\paramiko\\transport.py:219: CryptographyDeprecationWarning: Blowfish has been deprecated\n",
      "  \"class\": algorithms.Blowfish,\n"
     ]
    },
    {
     "data": {
      "text/html": [
       "<pre style=\"white-space:pre;overflow-x:auto;line-height:normal;font-family:Menlo,'DejaVu Sans Mono',consolas,'Courier New',monospace\"><span style=\"color: #7fbfbf; text-decoration-color: #7fbfbf\">[16:42:25] </span><span style=\"color: #800000; text-decoration-color: #800000; font-weight: bold\">ERROR   </span> PARDISO solver not installed, run `pip install pypardiso`. Otherwise,          <a href=\"file://C:\\Users\\DELL\\anaconda3\\Lib\\site-packages\\openpnm\\utils\\_workspace.py\" target=\"_blank\"><span style=\"color: #7f7f7f; text-decoration-color: #7f7f7f\">_workspace.py</span></a><span style=\"color: #7f7f7f; text-decoration-color: #7f7f7f\">:</span><a href=\"file://C:\\Users\\DELL\\anaconda3\\Lib\\site-packages\\openpnm\\utils\\_workspace.py#56\" target=\"_blank\"><span style=\"color: #7f7f7f; text-decoration-color: #7f7f7f\">56</span></a>\n",
       "<span style=\"color: #7fbfbf; text-decoration-color: #7fbfbf\">           </span>         simulations will be slow. Apple M chips not supported.                         <span style=\"color: #7f7f7f; text-decoration-color: #7f7f7f\">                </span>\n",
       "</pre>\n"
      ],
      "text/plain": [
       "\u001b[2;36m[16:42:25]\u001b[0m\u001b[2;36m \u001b[0m\u001b[1;31mERROR   \u001b[0m PARDISO solver not installed, run `pip install pypardiso`. Otherwise,          \u001b]8;id=560512;file://C:\\Users\\DELL\\anaconda3\\Lib\\site-packages\\openpnm\\utils\\_workspace.py\u001b\\\u001b[2m_workspace.py\u001b[0m\u001b]8;;\u001b\\\u001b[2m:\u001b[0m\u001b]8;id=200570;file://C:\\Users\\DELL\\anaconda3\\Lib\\site-packages\\openpnm\\utils\\_workspace.py#56\u001b\\\u001b[2m56\u001b[0m\u001b]8;;\u001b\\\n",
       "\u001b[2;36m           \u001b[0m         simulations will be slow. Apple M chips not supported.                         \u001b[2m                \u001b[0m\n"
      ]
     },
     "metadata": {},
     "output_type": "display_data"
    }
   ],
   "source": [
    "import numpy as np\n",
    "import porespy as ps\n",
    "import openpnm as op\n",
    "import matplotlib.pyplot as plt\n",
    "ps.visualization.set_mpl_style()\n",
    "np.random.seed(10)\n",
    "#%matplotlib inline\n",
    "np.set_printoptions(precision=5)\n",
    "import imageio"
   ]
  },
  {
   "cell_type": "markdown",
   "id": "4585c4e2",
   "metadata": {},
   "source": [
    "## snow output to extract network"
   ]
  },
  {
   "cell_type": "code",
   "execution_count": null,
   "id": "ce664fc4",
   "metadata": {},
   "outputs": [],
   "source": [
    "snow_output = ps.networks.snow2(im, voxel_size=1)\n",
    "pn = op.io.network_from_porespy(snow_output.network)\n",
    "print(pn)"
   ]
  },
  {
   "cell_type": "code",
   "execution_count": null,
   "id": "c1d8d311",
   "metadata": {},
   "outputs": [],
   "source": [
    "health=op.utils.check_network_health(pn1)\n",
    "print(health)"
   ]
  },
  {
   "cell_type": "markdown",
   "id": "c1d07328",
   "metadata": {},
   "source": [
    "## trimmimg clustering issues"
   ]
  },
  {
   "cell_type": "code",
   "execution_count": null,
   "id": "50095553",
   "metadata": {},
   "outputs": [],
   "source": [
    "op.topotools.trim(pn1, pores=health['disconnected_pores'])\n",
    "health=op.utils.check_network_health(pn1)\n",
    "print(health)\n",
    "print(pn1)"
   ]
  },
  {
   "cell_type": "markdown",
   "id": "e04393b9",
   "metadata": {},
   "source": [
    "## saving model"
   ]
  },
  {
   "cell_type": "code",
   "execution_count": null,
   "id": "be3f4ede",
   "metadata": {},
   "outputs": [],
   "source": [
    "import pickle\n",
    "with open(\"C:\\\\Users\\\\DELL\\\\Documents\\\\Umar_8725\\\\catalyst_type1.1_network.net\", \"wb\") as f:\n",
    " pickle.dump(snow_output.network, f)"
   ]
  }
 ],
 "metadata": {
  "kernelspec": {
   "display_name": "Python 3 (ipykernel)",
   "language": "python",
   "name": "python3"
  },
  "language_info": {
   "codemirror_mode": {
    "name": "ipython",
    "version": 3
   },
   "file_extension": ".py",
   "mimetype": "text/x-python",
   "name": "python",
   "nbconvert_exporter": "python",
   "pygments_lexer": "ipython3",
   "version": "3.11.5"
  }
 },
 "nbformat": 4,
 "nbformat_minor": 5
}
